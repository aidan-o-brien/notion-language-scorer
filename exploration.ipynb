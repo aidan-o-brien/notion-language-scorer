{
 "cells": [
  {
   "attachments": {},
   "cell_type": "markdown",
   "metadata": {},
   "source": [
    "# Imports"
   ]
  },
  {
   "cell_type": "code",
   "execution_count": 2,
   "metadata": {},
   "outputs": [],
   "source": [
    "from utils import get_block_data, update_notion, find_text, format_text\n",
    "from config import NOTION_KEY, DEEPL_KEY\n",
    "from evaluate import load\n",
    "import deepl"
   ]
  },
  {
   "attachments": {},
   "cell_type": "markdown",
   "metadata": {},
   "source": [
    "# Load Notion Data"
   ]
  },
  {
   "cell_type": "code",
   "execution_count": 3,
   "metadata": {},
   "outputs": [],
   "source": [
    "page_url = \"https://www.notion.so/Capitolo-1-b965a7473ab845a9a9b826e98a52ca3c\"\n",
    "block_id = page_url.split(\"-\")[-1]\n",
    "data = get_block_data(NOTION_KEY, block_id)"
   ]
  },
  {
   "attachments": {},
   "cell_type": "markdown",
   "metadata": {},
   "source": [
    "# Clean Data"
   ]
  },
  {
   "cell_type": "code",
   "execution_count": 4,
   "metadata": {},
   "outputs": [],
   "source": [
    "# Find index of heading 1 blocks\n",
    "h1_blocks_idx = [idx for idx, block in enumerate(data['results']) if block['type'] == 'heading_1']"
   ]
  },
  {
   "cell_type": "code",
   "execution_count": 5,
   "metadata": {},
   "outputs": [],
   "source": [
    "original_text = find_text(data, h1_blocks_idx[0]+1, h1_blocks_idx[1])\n",
    "my_translation = find_text(data, h1_blocks_idx[1]+1, h1_blocks_idx[2])\n",
    "given_translation = find_text(data, h1_blocks_idx[2]+1, len(data['results']))"
   ]
  },
  {
   "cell_type": "code",
   "execution_count": 6,
   "metadata": {},
   "outputs": [],
   "source": [
    "original_text = format_text(original_text)\n",
    "my_translation = format_text(my_translation)\n",
    "given_translation = format_text(given_translation)"
   ]
  },
  {
   "attachments": {},
   "cell_type": "markdown",
   "metadata": {},
   "source": [
    "# Score My Translation"
   ]
  },
  {
   "cell_type": "code",
   "execution_count": 7,
   "metadata": {},
   "outputs": [],
   "source": [
    "# Compute sacrebleu score\n",
    "metric = load('sacrebleu')\n",
    "my_score = metric.compute(\n",
    "    predictions=[my_translation], \n",
    "    references=[given_translation]\n",
    ")['score']"
   ]
  },
  {
   "attachments": {},
   "cell_type": "markdown",
   "metadata": {},
   "source": [
    "# Score DeepL Translation"
   ]
  },
  {
   "cell_type": "code",
   "execution_count": 8,
   "metadata": {},
   "outputs": [],
   "source": [
    "# Translate with DeepL\n",
    "translator = deepl.Translator(DEEPL_KEY)\n",
    "deepl_translation = translator.translate_text(\n",
    "    original_text, \n",
    "    target_lang='EN-GB'\n",
    ")"
   ]
  },
  {
   "cell_type": "code",
   "execution_count": 9,
   "metadata": {},
   "outputs": [],
   "source": [
    "# Compute DeepL score\n",
    "deepl_score = metric.compute(\n",
    "    predictions=[deepl_translation.text], \n",
    "    references=[given_translation]\n",
    ")['score']"
   ]
  },
  {
   "attachments": {},
   "cell_type": "markdown",
   "metadata": {},
   "source": [
    "# Write Scores To Notion"
   ]
  },
  {
   "cell_type": "code",
   "execution_count": 10,
   "metadata": {},
   "outputs": [],
   "source": [
    "update_notion(NOTION_KEY, my_score, deepl_score)"
   ]
  },
  {
   "cell_type": "code",
   "execution_count": null,
   "metadata": {},
   "outputs": [],
   "source": []
  }
 ],
 "metadata": {
  "kernelspec": {
   "display_name": "myenv",
   "language": "python",
   "name": "python3"
  },
  "language_info": {
   "codemirror_mode": {
    "name": "ipython",
    "version": 3
   },
   "file_extension": ".py",
   "mimetype": "text/x-python",
   "name": "python",
   "nbconvert_exporter": "python",
   "pygments_lexer": "ipython3",
   "version": "3.10.9"
  },
  "orig_nbformat": 4,
  "vscode": {
   "interpreter": {
    "hash": "06030b666b60ca40535b2f2aecc1dd1cc1f0fc5eaf1f1356cd82f155cb06bd87"
   }
  }
 },
 "nbformat": 4,
 "nbformat_minor": 2
}
